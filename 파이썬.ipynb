{
  "nbformat": 4,
  "nbformat_minor": 0,
  "metadata": {
    "colab": {
      "name": "파이썬",
      "provenance": [],
      "collapsed_sections": [],
      "authorship_tag": "ABX9TyPE36H+v429fIjWA6N2EuX1",
      "include_colab_link": true
    },
    "kernelspec": {
      "name": "python3",
      "display_name": "Python 3"
    }
  },
  "cells": [
    {
      "cell_type": "markdown",
      "metadata": {
        "id": "view-in-github",
        "colab_type": "text"
      },
      "source": [
        "<a href=\"https://colab.research.google.com/github/20173132hanaram/-/blob/master/%ED%8C%8C%EC%9D%B4%EC%8D%AC.ipynb\" target=\"_parent\"><img src=\"https://colab.research.google.com/assets/colab-badge.svg\" alt=\"Open In Colab\"/></a>"
      ]
    },
    {
      "cell_type": "code",
      "metadata": {
        "id": "if-7SM_lZWkk",
        "colab_type": "code",
        "colab": {
          "base_uri": "https://localhost:8080/",
          "height": 197
        },
        "outputId": "f29dbbcb-1150-4087-9fac-f42f9dcdfd60"
      },
      "source": [
        "x = 3\n",
        "print(type(x)) \n",
        "print(x)       \n",
        "print(x + 1)   \n",
        "print(x - 1)   \n",
        "print(x * 2)  \n",
        "print(x ** 2)  \n",
        "x += 1\n",
        "print(x)  \n",
        "x *= 2\n",
        "print(x)  \n",
        "y = 2.5\n",
        "print(type(y)) \n",
        "print(y, y + 1, y * 2, y ** 2) "
      ],
      "execution_count": null,
      "outputs": [
        {
          "output_type": "stream",
          "text": [
            "<class 'int'>\n",
            "3\n",
            "4\n",
            "2\n",
            "6\n",
            "9\n",
            "4\n",
            "8\n",
            "<class 'float'>\n",
            "2.5 3.5 5.0 6.25\n"
          ],
          "name": "stdout"
        }
      ]
    },
    {
      "cell_type": "code",
      "metadata": {
        "id": "htIThPpaZiZs",
        "colab_type": "code",
        "colab": {
          "base_uri": "https://localhost:8080/",
          "height": 53
        },
        "outputId": "0d597c1c-7385-4da3-9dec-e9687151e57c"
      },
      "source": [
        "A = range(5)\n",
        "print(A)\n",
        "\n",
        "print(A[2])"
      ],
      "execution_count": null,
      "outputs": [
        {
          "output_type": "stream",
          "text": [
            "range(0, 5)\n",
            "2\n"
          ],
          "name": "stdout"
        }
      ]
    },
    {
      "cell_type": "code",
      "metadata": {
        "id": "x4wHdgl5ZjjK",
        "colab_type": "code",
        "colab": {
          "base_uri": "https://localhost:8080/",
          "height": 107
        },
        "outputId": "e8ddff29-b835-4d6f-9569-f12a4ae738c1"
      },
      "source": [
        "for i in range(5):\n",
        "    print(i, A[i])"
      ],
      "execution_count": null,
      "outputs": [
        {
          "output_type": "stream",
          "text": [
            "0 0\n",
            "1 1\n",
            "2 2\n",
            "3 3\n",
            "4 4\n"
          ],
          "name": "stdout"
        }
      ]
    },
    {
      "cell_type": "code",
      "metadata": {
        "id": "WukUL0rbZls4",
        "colab_type": "code",
        "colab": {
          "base_uri": "https://localhost:8080/",
          "height": 71
        },
        "outputId": "b3d4a9fe-62ea-472c-d9dc-a0579ed03fec"
      },
      "source": [
        "print((1, 2, 3) + (4, 5, 6))\n",
        "print([1, 2, 3] + [4, 5, 6])\n",
        "print(\"Hello\" + \" \" + \"World\")"
      ],
      "execution_count": null,
      "outputs": [
        {
          "output_type": "stream",
          "text": [
            "(1, 2, 3, 4, 5, 6)\n",
            "[1, 2, 3, 4, 5, 6]\n",
            "Hello World\n"
          ],
          "name": "stdout"
        }
      ]
    },
    {
      "cell_type": "code",
      "metadata": {
        "id": "tUwEBUsFZnMS",
        "colab_type": "code",
        "colab": {
          "base_uri": "https://localhost:8080/",
          "height": 71
        },
        "outputId": "0637988a-8143-46a8-ceed-3486667e65cf"
      },
      "source": [
        "print((1, 2, 3) * 3)\n",
        "print([1, 2, 3] * 3)\n",
        "print(\"Hello \"*3)"
      ],
      "execution_count": null,
      "outputs": [
        {
          "output_type": "stream",
          "text": [
            "(1, 2, 3, 1, 2, 3, 1, 2, 3)\n",
            "[1, 2, 3, 1, 2, 3, 1, 2, 3]\n",
            "Hello Hello Hello \n"
          ],
          "name": "stdout"
        }
      ]
    },
    {
      "cell_type": "code",
      "metadata": {
        "id": "yPHqNvYTZpSi",
        "colab_type": "code",
        "colab": {
          "base_uri": "https://localhost:8080/",
          "height": 53
        },
        "outputId": "6ef471d5-9339-4092-ea5c-24640e57868e"
      },
      "source": [
        "months = ('January','February','March','April','May','June',\\\n",
        "'July','August','September','October','November','December')\n",
        "\n",
        "print(months[0])\n",
        "print(\"index of 7 ==> \" , months[7])"
      ],
      "execution_count": null,
      "outputs": [
        {
          "output_type": "stream",
          "text": [
            "January\n",
            "index of 7 ==>  August\n"
          ],
          "name": "stdout"
        }
      ]
    },
    {
      "cell_type": "code",
      "metadata": {
        "id": "utLJonh0Zryd",
        "colab_type": "code",
        "colab": {
          "base_uri": "https://localhost:8080/",
          "height": 233
        },
        "outputId": "52a8054c-0cfc-46a3-9198-636614d7b72a"
      },
      "source": [
        "for item in months:\n",
        "    print (item)"
      ],
      "execution_count": null,
      "outputs": [
        {
          "output_type": "stream",
          "text": [
            "January\n",
            "February\n",
            "March\n",
            "April\n",
            "May\n",
            "June\n",
            "July\n",
            "August\n",
            "September\n",
            "October\n",
            "November\n",
            "December\n"
          ],
          "name": "stdout"
        }
      ]
    },
    {
      "cell_type": "code",
      "metadata": {
        "id": "CtnHZBzKZtof",
        "colab_type": "code",
        "colab": {
          "base_uri": "https://localhost:8080/",
          "height": 143
        },
        "outputId": "56d2073a-184a-46fb-a18d-7cd5389bb5de"
      },
      "source": [
        "t = ('john', 32, (2,3,4,5), 'hello')\n",
        "print(t)\n",
        "print(t[2])\n",
        "print(t[2][1])\n",
        "print(t[:2]) # index 포함 X\n",
        "print(t[2:]) # index 포함 O\n",
        "\n",
        "print(t[-1])\n",
        "print(t[-2])"
      ],
      "execution_count": null,
      "outputs": [
        {
          "output_type": "stream",
          "text": [
            "('john', 32, (2, 3, 4, 5), 'hello')\n",
            "(2, 3, 4, 5)\n",
            "3\n",
            "('john', 32)\n",
            "((2, 3, 4, 5), 'hello')\n",
            "hello\n",
            "(2, 3, 4, 5)\n"
          ],
          "name": "stdout"
        }
      ]
    },
    {
      "cell_type": "code",
      "metadata": {
        "id": "izKvAcnQZvPk",
        "colab_type": "code",
        "colab": {
          "base_uri": "https://localhost:8080/",
          "height": 71
        },
        "outputId": "0ba5dd8b-aa32-4bfa-b397-a1f822bafbc1"
      },
      "source": [
        "li = ['hallym', 1, 3.141572, 'hello']\n",
        "print(li)\n",
        "li[1] = 45\n",
        "print(li)\n",
        "li.append('September')\n",
        "print(li)"
      ],
      "execution_count": null,
      "outputs": [
        {
          "output_type": "stream",
          "text": [
            "['hallym', 1, 3.141572, 'hello']\n",
            "['hallym', 45, 3.141572, 'hello']\n",
            "['hallym', 45, 3.141572, 'hello', 'September']\n"
          ],
          "name": "stdout"
        }
      ]
    },
    {
      "cell_type": "code",
      "metadata": {
        "id": "Ovlt1Ay3Zwi1",
        "colab_type": "code",
        "colab": {
          "base_uri": "https://localhost:8080/",
          "height": 71
        },
        "outputId": "927912f9-9ca3-4074-e872-7c2d03cd5a8c"
      },
      "source": [
        "v = []\n",
        "for i in range(0,3):\n",
        "    v.append(i)\n",
        "    print(v)"
      ],
      "execution_count": null,
      "outputs": [
        {
          "output_type": "stream",
          "text": [
            "[0]\n",
            "[0, 1]\n",
            "[0, 1, 2]\n"
          ],
          "name": "stdout"
        }
      ]
    }
  ]
}