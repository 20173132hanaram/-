{
  "nbformat": 4,
  "nbformat_minor": 0,
  "metadata": {
    "colab": {
      "name": "01_linear_regression_using_tensorflow_homework.ipynb",
      "provenance": [],
      "collapsed_sections": [],
      "authorship_tag": "ABX9TyPKIsrpbAdcWrmwwq78Qsp8",
      "include_colab_link": true
    },
    "kernelspec": {
      "name": "python3",
      "display_name": "Python 3"
    }
  },
  "cells": [
    {
      "cell_type": "markdown",
      "metadata": {
        "id": "view-in-github",
        "colab_type": "text"
      },
      "source": [
        "<a href=\"https://colab.research.google.com/github/20173132hanaram/-/blob/master/01_linear_regression_using_tensorflow_homework.ipynb\" target=\"_parent\"><img src=\"https://colab.research.google.com/assets/colab-badge.svg\" alt=\"Open In Colab\"/></a>"
      ]
    },
    {
      "cell_type": "code",
      "metadata": {
        "id": "KHbms-FbCg90",
        "outputId": "ad0122e3-66ac-4dda-d934-28bd9ac68673",
        "colab": {
          "base_uri": "https://localhost:8080/",
          "height": 71
        }
      },
      "source": [
        "import tensorflow.compat.v1 as tf\n",
        "tf.disable_v2_behavior()\n",
        "\n",
        "import numpy as np\n",
        "import matplotlib.pyplot as plt"
      ],
      "execution_count": 1,
      "outputs": [
        {
          "output_type": "stream",
          "text": [
            "WARNING:tensorflow:From /usr/local/lib/python3.6/dist-packages/tensorflow/python/compat/v2_compat.py:96: disable_resource_variables (from tensorflow.python.ops.variable_scope) is deprecated and will be removed in a future version.\n",
            "Instructions for updating:\n",
            "non-resource variables are not supported in the long term\n"
          ],
          "name": "stdout"
        }
      ]
    },
    {
      "cell_type": "code",
      "metadata": {
        "id": "BjoED9PtCtTT"
      },
      "source": [
        "x_train = [1, 2, 3, 4, 5]\n",
        "y_train = [3, 5, 7, 9, 11]\n",
        "\n",
        "signal_length = len(x_train)\n",
        "y_noise = np.random.normal(0, 1, signal_length)\n",
        "\n",
        "y_train = y_train + y_noise"
      ],
      "execution_count": 3,
      "outputs": []
    },
    {
      "cell_type": "code",
      "metadata": {
        "id": "0sNia9C_DCIL",
        "outputId": "f68fc8af-f071-4afe-e59d-9da489214489",
        "colab": {
          "base_uri": "https://localhost:8080/",
          "height": 265
        }
      },
      "source": [
        "plt.plot(x_train, y_train,'.-')\n",
        "plt.grid()"
      ],
      "execution_count": 4,
      "outputs": [
        {
          "output_type": "display_data",
          "data": {
            "image/png": "[encoded data removed]",
            "text/plain": [
              "<Figure size 432x288 with 1 Axes>"
            ]
          },
          "metadata": {
            "tags": [],
            "needs_background": "light"
          }
        }
      ]
    },
    {
      "cell_type": "code",
      "metadata": {
        "id": "8mf6EP7MDG6P"
      },
      "source": [
        "x_train = [2, 3, 5, 8, 11]\n",
        "y_train = [4, 7, 10, 13, 16]\n",
        "\n",
        "signal_length = len(x_train)\n",
        "y_noise = np.random.normal(0, 1, signal_length)\n",
        "\n",
        "y_train = y_train + y_noise"
      ],
      "execution_count": 49,
      "outputs": []
    },
    {
      "cell_type": "code",
      "metadata": {
        "id": "ydZlt47tDSfv",
        "outputId": "f2addf18-38d7-43c7-ea4b-7d840ddf4955",
        "colab": {
          "base_uri": "https://localhost:8080/",
          "height": 267
        }
      },
      "source": [
        "plt.plot(x_train, y_train,'.-')\n",
        "plt.grid()"
      ],
      "execution_count": 50,
      "outputs": [
        {
          "output_type": "display_data",
          "data": {
            "image/png": "[encoded data removed]",
            "text/plain": [
              "<Figure size 432x288 with 1 Axes>"
            ]
          },
          "metadata": {
            "tags": [],
            "needs_background": "light"
          }
        }
      ]
    },
    {
      "cell_type": "code",
      "metadata": {
        "id": "otVSFe4yNcpk"
      },
      "source": [
        ""
      ],
      "execution_count": null,
      "outputs": []
    },
    {
      "cell_type": "code",
      "metadata": {
        "id": "KPt-Vso5DV8u"
      },
      "source": [
        "useRandom = False"
      ],
      "execution_count": 8,
      "outputs": []
    },
    {
      "cell_type": "code",
      "metadata": {
        "id": "_h1q3fcUDYwH"
      },
      "source": [
        "if useRandom:\n",
        "    W = tf.Variable(tf.random_normal([1]), name='weight')\n",
        "    b = tf.Variable(tf.random_normal([1]), name='bias')\n",
        "else:\n",
        "    w0 = 15.0;\n",
        "    b0 = 7.0;\n",
        "\n",
        "    W = tf.Variable(w0*tf.ones([1]), name='weight')\n",
        "    b = tf.Variable(b0*tf.ones([1]), name='bias')"
      ],
      "execution_count": 37,
      "outputs": []
    },
    {
      "cell_type": "code",
      "metadata": {
        "id": "bRf65r57DdCm"
      },
      "source": [
        "hypothesis = x_train * W + b"
      ],
      "execution_count": 38,
      "outputs": []
    },
    {
      "cell_type": "code",
      "metadata": {
        "id": "9zo26kIvDgu6"
      },
      "source": [
        "loss = tf.reduce_mean(tf.square(hypothesis - y_train))"
      ],
      "execution_count": 39,
      "outputs": []
    },
    {
      "cell_type": "markdown",
      "metadata": {
        "id": "IpZ88uRrDnLL"
      },
      "source": [
        "**OPtimizer**"
      ]
    },
    {
      "cell_type": "code",
      "metadata": {
        "id": "6WZalSS6DibG"
      },
      "source": [
        "optimizer = tf.train.GradientDescentOptimizer(learning_rate=0.01)\n",
        "train = optimizer.minimize(loss)"
      ],
      "execution_count": 40,
      "outputs": []
    },
    {
      "cell_type": "markdown",
      "metadata": {
        "id": "7HFGthobDuz7"
      },
      "source": [
        "**Initializes** global variables in the graph."
      ]
    },
    {
      "cell_type": "code",
      "metadata": {
        "id": "c2VBirkhDkS8"
      },
      "source": [
        "sess = tf.Session()"
      ],
      "execution_count": 41,
      "outputs": []
    },
    {
      "cell_type": "code",
      "metadata": {
        "id": "IeSdBzwlD85_"
      },
      "source": [
        "sess.run(tf.global_variables_initializer())"
      ],
      "execution_count": 42,
      "outputs": []
    },
    {
      "cell_type": "code",
      "metadata": {
        "id": "zKiUkRgwD0J6",
        "outputId": "a4f71425-0877-4217-e4e0-1f77678074dd",
        "colab": {
          "base_uri": "https://localhost:8080/",
          "height": 395
        }
      },
      "source": [
        "nb_epoch = 1001\n",
        "vloss = [] #empty list\n",
        "vb = [] #empty list\n",
        "vw = [] #empty list\n",
        "for step in range(nb_epoch):\n",
        "    sess.run(train)\n",
        "    loss1 = sess.run(loss)\n",
        "    vloss.append(loss1)\n",
        "    \n",
        "    if step % 50 == 0: # 5번마다\n",
        "        w1 = sess.run(W)[0] # 기울기\n",
        "        b1 = sess.run(b)[0] # bias\n",
        "        \n",
        "        print(step,'\\t', loss1, '\\t', w1, '\\t',b1)"
      ],
      "execution_count": 43,
      "outputs": [
        {
          "output_type": "stream",
          "text": [
            "0 \t 1454.0406 \t 11.692018 \t 6.0755367\n",
            "50 \t 1.0426565 \t 1.109924 \t 2.7677038\n",
            "100 \t 0.85460395 \t 1.1917325 \t 2.472292\n",
            "150 \t 0.72057503 \t 1.2608101 \t 2.2229002\n",
            "200 \t 0.6250502 \t 1.3191271 \t 2.0123575\n",
            "250 \t 0.55696756 \t 1.36836 \t 1.8346107\n",
            "300 \t 0.50844395 \t 1.4099238 \t 1.6845523\n",
            "350 \t 0.47386003 \t 1.4450132 \t 1.5578686\n",
            "400 \t 0.44921166 \t 1.4746363 \t 1.4509193\n",
            "450 \t 0.43164414 \t 1.499645 \t 1.3606299\n",
            "500 \t 0.41912374 \t 1.5207579 \t 1.2844055\n",
            "550 \t 0.41019997 \t 1.5385822 \t 1.2200545\n",
            "600 \t 0.40383998 \t 1.5536299 \t 1.1657281\n",
            "650 \t 0.39930707 \t 1.5663334 \t 1.1198636\n",
            "700 \t 0.39607638 \t 1.5770581 \t 1.0811442\n",
            "750 \t 0.3937738 \t 1.5861121 \t 1.0484562\n",
            "800 \t 0.3921327 \t 1.5937558 \t 1.02086\n",
            "850 \t 0.3909631 \t 1.6002089 \t 0.9975626\n",
            "900 \t 0.39012942 \t 1.6056566 \t 0.9778944\n",
            "950 \t 0.38953522 \t 1.6102557 \t 0.96129\n",
            "1000 \t 0.38911194 \t 1.6141385 \t 0.947272\n"
          ],
          "name": "stdout"
        }
      ]
    },
    {
      "cell_type": "code",
      "metadata": {
        "id": "cdpJJmguEBe3",
        "outputId": "7b8716ba-dd8b-420a-c583-b75e22f24f72",
        "colab": {
          "base_uri": "https://localhost:8080/",
          "height": 297
        }
      },
      "source": [
        "plt.plot(vloss[:20],'.-')\n",
        "plt.xlabel('epoch')\n",
        "plt.ylabel('loss')"
      ],
      "execution_count": 44,
      "outputs": [
        {
          "output_type": "execute_result",
          "data": {
            "text/plain": [
              "Text(0, 0.5, 'loss')"
            ]
          },
          "metadata": {
            "tags": []
          },
          "execution_count": 44
        },
        {
          "output_type": "display_data",
          "data": {
            "image/png": "[encoded data removed]",
            "text/plain": [
              "<Figure size 432x288 with 1 Axes>"
            ]
          },
          "metadata": {
            "tags": [],
            "needs_background": "light"
          }
        }
      ]
    },
    {
      "cell_type": "code",
      "metadata": {
        "id": "3k5GL7oBEE2f"
      },
      "source": [
        "w1 = sess.run(W)[0] # 기울기\n",
        "b1 = sess.run(b)[0] # bias"
      ],
      "execution_count": 45,
      "outputs": []
    },
    {
      "cell_type": "code",
      "metadata": {
        "id": "wDlJHtQyEJd8",
        "outputId": "f0593cfa-da96-4b23-b11a-e0ab62698fd0",
        "colab": {
          "base_uri": "https://localhost:8080/",
          "height": 35
        }
      },
      "source": [
        "print(w1, b1)"
      ],
      "execution_count": 46,
      "outputs": [
        {
          "output_type": "stream",
          "text": [
            "1.6141385 0.947272\n"
          ],
          "name": "stdout"
        }
      ]
    },
    {
      "cell_type": "code",
      "metadata": {
        "id": "kxb7fbKaELv9",
        "outputId": "0a4e477c-cdef-4b37-c1fd-fc820e359253",
        "colab": {
          "base_uri": "https://localhost:8080/",
          "height": 35
        }
      },
      "source": [
        "str1 = 'y = ' + str(w1) +'x + ' + str(b1)\n",
        "print(str1)"
      ],
      "execution_count": 47,
      "outputs": [
        {
          "output_type": "stream",
          "text": [
            "y = 1.6141385x + 0.947272\n"
          ],
          "name": "stdout"
        }
      ]
    },
    {
      "cell_type": "code",
      "metadata": {
        "id": "GkIh8cx-EHkb",
        "outputId": "65410c86-e0e5-4f82-9c1c-d35a59ce0125",
        "colab": {
          "base_uri": "https://localhost:8080/",
          "height": 299
        }
      },
      "source": [
        "plt.figure(figsize=(8,4)) # figsize를 바꾸어보세요\n",
        "plt.plot(x_train, y_train,'o') #train data 그리기\n",
        "\n",
        "# 직선 그래프를 그리기 위한 코드\n",
        "# 그래프의 x좌표를 일정 간격으로 설정함\n",
        "x1 = np.linspace(np.min(x_train)-1, np.max(x_train)+1)\n",
        "y1 = w1*x1 + b1\n",
        "plt.plot(x1, y1)\n",
        "\n",
        "plt.grid() # 격자\n",
        "#plt.axis((np.min(x_train) - 1, np.max(x_train) + 1, np.min(y_train) - 1, np.max(y_train) + 1))\n",
        "plt.title(str1)"
      ],
      "execution_count": 48,
      "outputs": [
        {
          "output_type": "execute_result",
          "data": {
            "text/plain": [
              "Text(0.5, 1.0, 'y = 1.6141385x + 0.947272')"
            ]
          },
          "metadata": {
            "tags": []
          },
          "execution_count": 48
        },
        {
          "output_type": "display_data",
          "data": {
            "image/png": "[encoded data removed]",
            "text/plain": [
              "<Figure size 576x288 with 1 Axes>"
            ]
          },
          "metadata": {
            "tags": [],
            "needs_background": "light"
          }
        }
      ]
    }
  ]
}