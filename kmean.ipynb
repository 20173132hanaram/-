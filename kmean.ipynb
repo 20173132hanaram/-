{
  "nbformat": 4,
  "nbformat_minor": 0,
  "metadata": {
    "colab": {
      "name": "kmean.ipynb",
      "provenance": [],
      "collapsed_sections": [],
      "authorship_tag": "ABX9TyMNvbj88Z4Dy9q6TXmJ6EeH",
      "include_colab_link": true
    },
    "kernelspec": {
      "name": "python3",
      "display_name": "Python 3"
    }
  },
  "cells": [
    {
      "cell_type": "markdown",
      "metadata": {
        "id": "view-in-github",
        "colab_type": "text"
      },
      "source": [
        "<a href=\"https://colab.research.google.com/github/20173132hanaram/-/blob/master/kmean.ipynb\" target=\"_parent\"><img src=\"https://colab.research.google.com/assets/colab-badge.svg\" alt=\"Open In Colab\"/></a>"
      ]
    },
    {
      "cell_type": "code",
      "metadata": {
        "id": "Hkk66pGhD6x4",
        "colab_type": "code",
        "colab": {
          "base_uri": "https://localhost:8080/",
          "height": 73
        },
        "outputId": "115a7b24-43a8-4bcc-8f90-18daff45b0ba"
      },
      "source": [
        "import matplotlib.pyplot as plt\n",
        "from sklearn.cluster import KMeans\n",
        "from sklearn.datasets.samples_generator import make_blobs\n",
        "import numpy as np"
      ],
      "execution_count": null,
      "outputs": [
        {
          "output_type": "stream",
          "text": [
            "/usr/local/lib/python3.6/dist-packages/sklearn/utils/deprecation.py:144: FutureWarning: The sklearn.datasets.samples_generator module is  deprecated in version 0.22 and will be removed in version 0.24. The corresponding classes / functions should instead be imported from sklearn.datasets. Anything that cannot be imported from sklearn.datasets is now part of the private API.\n",
            "  warnings.warn(message, FutureWarning)\n"
          ],
          "name": "stderr"
        }
      ]
    },
    {
      "cell_type": "code",
      "metadata": {
        "id": "FFJiNFWbFDT8",
        "colab_type": "code",
        "colab": {}
      },
      "source": [
        "data, _ = make_blobs(n_samples=800, centers=7, cluster_std=0.20, random_state=0)"
      ],
      "execution_count": null,
      "outputs": []
    },
    {
      "cell_type": "code",
      "metadata": {
        "id": "NLpVc1tXFHuE",
        "colab_type": "code",
        "colab": {
          "base_uri": "https://localhost:8080/",
          "height": 35
        },
        "outputId": "b0a63240-cacd-4100-a896-ad9b956c7704"
      },
      "source": [
        "data.shape"
      ],
      "execution_count": null,
      "outputs": [
        {
          "output_type": "execute_result",
          "data": {
            "text/plain": [
              "(800, 2)"
            ]
          },
          "metadata": {
            "tags": []
          },
          "execution_count": 3
        }
      ]
    },
    {
      "cell_type": "code",
      "metadata": {
        "id": "SCyy4O44FH26",
        "colab_type": "code",
        "colab": {
          "base_uri": "https://localhost:8080/",
          "height": 297
        },
        "outputId": "7de38a78-5505-4eb1-cdb2-d5713244dfe2"
      },
      "source": [
        "plt.plot(data[:, 0], data[:, 1], '.')\n",
        "plt.xlabel('X')\n",
        "plt.ylabel('Y')"
      ],
      "execution_count": null,
      "outputs": [
        {
          "output_type": "execute_result",
          "data": {
            "text/plain": [
              "Text(0, 0.5, 'Y')"
            ]
          },
          "metadata": {
            "tags": []
          },
          "execution_count": 4
        },
        {
          "output_type": "display_data",
          "data": {
            "image/png": "[encoded data removed]",
            "text/plain": [
              "<Figure size 432x288 with 1 Axes>"
            ]
          },
          "metadata": {
            "tags": [],
            "needs_background": "light"
          }
        }
      ]
    },
    {
      "cell_type": "code",
      "metadata": {
        "id": "zAGXz9FPFICm",
        "colab_type": "code",
        "colab": {
          "base_uri": "https://localhost:8080/",
          "height": 53
        },
        "outputId": "01d78fbb-d80a-43f0-dbf6-1eff4cadb04d"
      },
      "source": [
        "%%time\n",
        "kmeans = KMeans(n_clusters=5)\n",
        "kmeans.fit(data)"
      ],
      "execution_count": null,
      "outputs": [
        {
          "output_type": "stream",
          "text": [
            "CPU times: user 34.9 ms, sys: 525 µs, total: 35.4 ms\n",
            "Wall time: 38.4 ms\n"
          ],
          "name": "stdout"
        }
      ]
    },
    {
      "cell_type": "code",
      "metadata": {
        "id": "DJUpy6i9FINM",
        "colab_type": "code",
        "colab": {}
      },
      "source": [
        "kmeans = KMeans(n_clusters=5)"
      ],
      "execution_count": null,
      "outputs": []
    },
    {
      "cell_type": "code",
      "metadata": {
        "id": "5eibHJ0WFe0T",
        "colab_type": "code",
        "colab": {
          "base_uri": "https://localhost:8080/",
          "height": 215
        },
        "outputId": "a01146ec-9ec5-42cc-ea73-83db89402fee"
      },
      "source": [
        "arr1 = [] \n",
        "for i in range(1,12):\n",
        "    kmeans = KMeans(n_clusters=i)\n",
        "    kmeans.fit(data)\n",
        "    print(i, '--------',  kmeans.inertia_)\n",
        "    arr1.append(kmeans.inertia_)"
      ],
      "execution_count": null,
      "outputs": [
        {
          "output_type": "stream",
          "text": [
            "1 -------- 21238.420478391778\n",
            "2 -------- 7113.880913989473\n",
            "3 -------- 3105.198618822146\n",
            "4 -------- 1792.8898027472835\n",
            "5 -------- 952.5834070268943\n",
            "6 -------- 473.8601283411401\n",
            "7 -------- 60.87559392436281\n",
            "8 -------- 57.213899026591506\n",
            "9 -------- 54.377014137406235\n",
            "10 -------- 51.027739724627274\n",
            "11 -------- 48.890956296623315\n"
          ],
          "name": "stdout"
        }
      ]
    },
    {
      "cell_type": "code",
      "metadata": {
        "id": "rg7uNUmhFeyV",
        "colab_type": "code",
        "colab": {
          "base_uri": "https://localhost:8080/",
          "height": 283
        },
        "outputId": "7064d6f0-fe3e-42fe-989b-84354222d648"
      },
      "source": [
        "plt.plot(arr1)"
      ],
      "execution_count": null,
      "outputs": [
        {
          "output_type": "execute_result",
          "data": {
            "text/plain": [
              "[<matplotlib.lines.Line2D at 0x7f50e0eacda0>]"
            ]
          },
          "metadata": {
            "tags": []
          },
          "execution_count": 10
        },
        {
          "output_type": "display_data",
          "data": {
            "image/png": "[encoded data removed]",
            "text/plain": [
              "<Figure size 432x288 with 1 Axes>"
            ]
          },
          "metadata": {
            "tags": [],
            "needs_background": "light"
          }
        }
      ]
    },
    {
      "cell_type": "code",
      "metadata": {
        "id": "NOB3EfzQFewY",
        "colab_type": "code",
        "colab": {
          "base_uri": "https://localhost:8080/",
          "height": 35
        },
        "outputId": "ea0d6e95-4391-412b-aec9-ba49928fc810"
      },
      "source": [
        "kmeans = KMeans(n_clusters=7)\n",
        "kmeans.fit(data)\n",
        "print(kmeans.inertia_)"
      ],
      "execution_count": null,
      "outputs": [
        {
          "output_type": "stream",
          "text": [
            "60.87559392436281\n"
          ],
          "name": "stdout"
        }
      ]
    },
    {
      "cell_type": "code",
      "metadata": {
        "id": "3Tw27YgsFetp",
        "colab_type": "code",
        "colab": {
          "base_uri": "https://localhost:8080/",
          "height": 143
        },
        "outputId": "74353784-ebe9-4690-899b-3de18fabfa04"
      },
      "source": [
        "centroids = kmeans.cluster_centers_\n",
        "print(centroids)"
      ],
      "execution_count": null,
      "outputs": [
        {
          "output_type": "stream",
          "text": [
            "[[-1.55311755  2.89258542]\n",
            " [ 5.84082798  0.59194939]\n",
            " [-1.25219327  7.82013601]\n",
            " [ 9.31480152 -2.33106587]\n",
            " [ 2.02052062  0.88069251]\n",
            " [ 0.96372862  4.31653186]\n",
            " [ 1.34680251  8.52053851]]\n"
          ],
          "name": "stdout"
        }
      ]
    },
    {
      "cell_type": "code",
      "metadata": {
        "id": "5O3TS2TnFeq-",
        "colab_type": "code",
        "colab": {
          "base_uri": "https://localhost:8080/",
          "height": 35
        },
        "outputId": "51518f2c-fab5-47b4-f5a8-fdd65ce4e16d"
      },
      "source": [
        "kmeans.inertia_"
      ],
      "execution_count": null,
      "outputs": [
        {
          "output_type": "execute_result",
          "data": {
            "text/plain": [
              "60.87559392436281"
            ]
          },
          "metadata": {
            "tags": []
          },
          "execution_count": 13
        }
      ]
    },
    {
      "cell_type": "code",
      "metadata": {
        "id": "8ferutOOFwad",
        "colab_type": "code",
        "colab": {
          "base_uri": "https://localhost:8080/",
          "height": 683
        },
        "outputId": "24c77cef-dc4b-48a5-84b8-916558aa12d5"
      },
      "source": [
        "kmeans.labels_"
      ],
      "execution_count": null,
      "outputs": [
        {
          "output_type": "execute_result",
          "data": {
            "text/plain": [
              "array([1, 0, 5, 1, 2, 5, 3, 6, 0, 6, 1, 0, 1, 5, 3, 5, 1, 4, 0, 0, 4, 1,\n",
              "       1, 2, 3, 6, 0, 1, 2, 5, 0, 0, 1, 6, 3, 1, 5, 2, 3, 3, 6, 0, 1, 5,\n",
              "       2, 4, 5, 3, 6, 4, 2, 2, 5, 5, 1, 4, 3, 1, 4, 0, 0, 6, 1, 6, 6, 1,\n",
              "       1, 6, 5, 3, 3, 3, 5, 0, 5, 5, 2, 2, 4, 3, 3, 3, 2, 1, 3, 0, 0, 6,\n",
              "       5, 3, 5, 0, 6, 1, 3, 1, 5, 3, 1, 5, 3, 4, 0, 6, 5, 4, 1, 6, 5, 0,\n",
              "       0, 3, 6, 1, 3, 5, 5, 6, 0, 1, 4, 2, 0, 2, 3, 6, 4, 0, 6, 3, 5, 0,\n",
              "       6, 3, 2, 1, 4, 2, 5, 2, 2, 4, 2, 6, 0, 5, 0, 6, 2, 6, 4, 4, 0, 1,\n",
              "       2, 3, 3, 6, 3, 2, 5, 6, 6, 2, 1, 0, 4, 2, 6, 1, 3, 4, 3, 0, 6, 0,\n",
              "       1, 1, 2, 5, 4, 3, 3, 4, 2, 6, 4, 5, 6, 3, 6, 6, 6, 1, 4, 6, 2, 4,\n",
              "       0, 5, 4, 5, 0, 1, 5, 0, 2, 6, 2, 1, 3, 1, 1, 4, 6, 3, 1, 3, 0, 3,\n",
              "       5, 5, 2, 2, 2, 4, 2, 6, 0, 3, 4, 0, 3, 5, 5, 1, 1, 0, 6, 0, 4, 3,\n",
              "       5, 0, 1, 1, 0, 3, 5, 3, 3, 2, 4, 0, 4, 4, 2, 0, 5, 2, 3, 3, 6, 0,\n",
              "       2, 1, 1, 0, 1, 5, 4, 2, 4, 6, 4, 6, 2, 3, 3, 4, 4, 4, 5, 3, 0, 3,\n",
              "       3, 3, 5, 5, 6, 4, 4, 4, 3, 5, 1, 3, 4, 2, 3, 5, 6, 6, 4, 0, 5, 6,\n",
              "       0, 1, 5, 3, 4, 2, 4, 0, 4, 4, 1, 2, 2, 5, 6, 6, 4, 4, 6, 5, 1, 4,\n",
              "       6, 0, 4, 6, 6, 5, 0, 0, 5, 0, 2, 1, 3, 2, 2, 1, 1, 3, 4, 6, 2, 6,\n",
              "       4, 1, 2, 2, 0, 4, 4, 4, 4, 5, 5, 4, 5, 4, 5, 5, 6, 0, 0, 0, 6, 3,\n",
              "       0, 6, 1, 0, 2, 1, 1, 2, 6, 5, 3, 0, 4, 1, 1, 4, 2, 2, 6, 5, 0, 3,\n",
              "       6, 1, 3, 6, 0, 3, 6, 0, 2, 5, 4, 6, 1, 2, 4, 6, 3, 6, 1, 0, 1, 6,\n",
              "       1, 5, 3, 0, 6, 1, 4, 3, 0, 3, 2, 4, 2, 6, 5, 4, 4, 3, 1, 0, 2, 5,\n",
              "       3, 0, 0, 5, 2, 3, 5, 0, 2, 6, 6, 6, 4, 5, 6, 2, 4, 3, 5, 0, 3, 5,\n",
              "       5, 5, 0, 2, 1, 1, 2, 6, 6, 6, 3, 4, 1, 0, 2, 0, 6, 1, 1, 2, 1, 0,\n",
              "       1, 2, 5, 6, 1, 5, 3, 3, 1, 6, 1, 1, 0, 4, 2, 1, 4, 3, 1, 1, 1, 5,\n",
              "       2, 4, 6, 4, 1, 1, 1, 6, 5, 0, 5, 5, 2, 1, 5, 1, 3, 1, 3, 0, 0, 3,\n",
              "       4, 3, 6, 4, 1, 1, 6, 0, 0, 6, 0, 6, 0, 0, 5, 3, 6, 0, 5, 3, 3, 5,\n",
              "       4, 4, 2, 4, 0, 6, 0, 5, 0, 3, 5, 4, 0, 4, 6, 4, 2, 1, 2, 0, 3, 5,\n",
              "       1, 3, 3, 0, 4, 3, 0, 6, 1, 2, 2, 4, 6, 5, 3, 3, 4, 2, 2, 3, 2, 5,\n",
              "       6, 1, 6, 1, 0, 4, 2, 1, 6, 4, 4, 2, 6, 4, 6, 4, 0, 4, 5, 2, 2, 3,\n",
              "       2, 4, 6, 2, 1, 0, 4, 2, 0, 3, 2, 5, 6, 0, 0, 4, 1, 6, 4, 6, 0, 1,\n",
              "       5, 2, 4, 2, 6, 1, 3, 5, 4, 3, 5, 5, 2, 0, 4, 1, 3, 5, 1, 0, 4, 1,\n",
              "       4, 4, 1, 1, 5, 5, 2, 1, 3, 0, 5, 4, 0, 4, 2, 5, 4, 4, 2, 2, 6, 3,\n",
              "       2, 5, 1, 1, 6, 1, 2, 1, 4, 2, 1, 5, 4, 5, 4, 2, 5, 0, 3, 0, 1, 2,\n",
              "       3, 6, 5, 2, 2, 6, 2, 6, 3, 1, 5, 5, 6, 6, 1, 0, 2, 2, 3, 2, 6, 3,\n",
              "       4, 2, 5, 6, 0, 1, 4, 4, 0, 6, 5, 2, 1, 1, 2, 3, 3, 3, 5, 4, 0, 2,\n",
              "       2, 0, 0, 3, 1, 5, 6, 4, 4, 5, 0, 6, 0, 6, 3, 5, 0, 4, 3, 2, 5, 3,\n",
              "       2, 5, 5, 2, 3, 3, 3, 2, 0, 1, 2, 0, 0, 3, 5, 5, 5, 2, 6, 6, 4, 4,\n",
              "       3, 5, 6, 3, 5, 2, 6, 2], dtype=int32)"
            ]
          },
          "metadata": {
            "tags": []
          },
          "execution_count": 14
        }
      ]
    },
    {
      "cell_type": "code",
      "metadata": {
        "id": "Cn7xF1-nFwjj",
        "colab_type": "code",
        "colab": {
          "base_uri": "https://localhost:8080/",
          "height": 297
        },
        "outputId": "27d81776-7256-48d3-ec90-46ab25451589"
      },
      "source": [
        "plt.scatter(data[:, 0], data[:, 1], c=kmeans.labels_)\n",
        "plt.plot(centroids[:, 0], centroids[:, 1], 'r+')\n",
        "plt.xlabel('X')\n",
        "plt.ylabel('Y')"
      ],
      "execution_count": null,
      "outputs": [
        {
          "output_type": "execute_result",
          "data": {
            "text/plain": [
              "Text(0, 0.5, 'Y')"
            ]
          },
          "metadata": {
            "tags": []
          },
          "execution_count": 15
        },
        {
          "output_type": "display_data",
          "data": {
            "image/png": "[encoded data removed]",
            "text/plain": [
              "<Figure size 432x288 with 1 Axes>"
            ]
          },
          "metadata": {
            "tags": [],
            "needs_background": "light"
          }
        }
      ]
    }
  ]
}